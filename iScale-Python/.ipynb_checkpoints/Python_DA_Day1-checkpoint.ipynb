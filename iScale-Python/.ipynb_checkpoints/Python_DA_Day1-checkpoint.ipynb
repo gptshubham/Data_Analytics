{
 "cells": [
  {
   "cell_type": "markdown",
   "id": "f313f575-c3d3-4eab-a1f8-a06614191a08",
   "metadata": {},
   "source": [
    "# Day 1 - Python Introduction and Anaconda Installation"
   ]
  },
  {
   "cell_type": "code",
   "execution_count": 3,
   "id": "79dc2387-3657-41b9-803e-ff854310c6bd",
   "metadata": {},
   "outputs": [
    {
     "name": "stdout",
     "output_type": "stream",
     "text": [
      "Hello Python\n"
     ]
    }
   ],
   "source": [
    "print('Hello Python')"
   ]
  },
  {
   "cell_type": "markdown",
   "id": "697e5cd6-a091-41e2-82be-b96537e9b792",
   "metadata": {},
   "source": [
    "## Python Comments"
   ]
  },
  {
   "cell_type": "code",
   "execution_count": 6,
   "id": "b0b153d4-e21e-4bb6-8b22-3d7b3ca2773e",
   "metadata": {},
   "outputs": [
    {
     "name": "stdout",
     "output_type": "stream",
     "text": [
      "Hello Python\n"
     ]
    }
   ],
   "source": [
    "# this is a comment\n",
    "print('Hello Python')"
   ]
  },
  {
   "cell_type": "code",
   "execution_count": null,
   "id": "64b41525-e035-4659-afc5-a367e297a92b",
   "metadata": {},
   "outputs": [],
   "source": []
  }
 ],
 "metadata": {
  "kernelspec": {
   "display_name": "Python 3 (ipykernel)",
   "language": "python",
   "name": "python3"
  },
  "language_info": {
   "codemirror_mode": {
    "name": "ipython",
    "version": 3
   },
   "file_extension": ".py",
   "mimetype": "text/x-python",
   "name": "python",
   "nbconvert_exporter": "python",
   "pygments_lexer": "ipython3",
   "version": "3.12.2"
  }
 },
 "nbformat": 4,
 "nbformat_minor": 5
}
