{
 "cells": [
  {
   "cell_type": "code",
   "execution_count": null,
   "id": "6411863c-5477-4444-93cf-546704837252",
   "metadata": {},
   "outputs": [],
   "source": [
    "# This lecture is too basic for my current level in Python considering I have a Gold Badge and 5 Star in Python at HackerRank.\n",
    "# Lets save some time."
   ]
  },
  {
   "cell_type": "code",
   "execution_count": 5,
   "id": "6119cfe6-754b-4013-a197-7b62a1eaf455",
   "metadata": {},
   "outputs": [],
   "source": [
    "first_name = 'Shubham'\n",
    "last_name = 'Gupta'"
   ]
  },
  {
   "cell_type": "code",
   "execution_count": 6,
   "id": "12f7a9cd-5ccd-4b53-93e6-811bfd8628f1",
   "metadata": {},
   "outputs": [
    {
     "data": {
      "text/plain": [
       "str"
      ]
     },
     "execution_count": 6,
     "metadata": {},
     "output_type": "execute_result"
    }
   ],
   "source": [
    "type(first_name)"
   ]
  },
  {
   "cell_type": "code",
   "execution_count": 8,
   "id": "26657a4c-3c1b-47ac-90a2-2bf6b86dfb53",
   "metadata": {},
   "outputs": [
    {
     "name": "stdout",
     "output_type": "stream",
     "text": [
      "Shubham Gupta <class 'str'>\n"
     ]
    }
   ],
   "source": [
    "# String Concatenation\n",
    "name = first_name + ' ' + last_name\n",
    "print(name,type(name))"
   ]
  },
  {
   "cell_type": "code",
   "execution_count": 10,
   "id": "35066d1b-8968-4b78-beeb-b9b766bc154c",
   "metadata": {},
   "outputs": [
    {
     "name": "stdout",
     "output_type": "stream",
     "text": [
      "Shubham Gupta <class 'str'>\n"
     ]
    }
   ],
   "source": [
    "# f string\n",
    "name = f'{first_name} {last_name}'\n",
    "print(name,type(name))"
   ]
  },
  {
   "cell_type": "code",
   "execution_count": 17,
   "id": "aa53c44c-9ff8-4454-92bb-417b514bc74d",
   "metadata": {},
   "outputs": [
    {
     "name": "stdout",
     "output_type": "stream",
     "text": [
      "S\n",
      "a\n",
      "bham\n",
      "Shubham\n",
      "Gupta\n"
     ]
    }
   ],
   "source": [
    "# Indexing\n",
    "print(name[0])\n",
    "print(name[-1])"
   ]
  },
  {
   "cell_type": "code",
   "execution_count": 20,
   "id": "637282b5-8177-4f05-9846-460d1f929a84",
   "metadata": {},
   "outputs": [
    {
     "name": "stdout",
     "output_type": "stream",
     "text": [
      "bham\n",
      "Shubham\n",
      "Gupta\n",
      "Shubham Gupta\n"
     ]
    }
   ],
   "source": [
    "# Slicing\n",
    "print(name[3:7])\n",
    "print(name[:7])\n",
    "print(name[8:])\n",
    "print(name[:])"
   ]
  },
  {
   "cell_type": "code",
   "execution_count": 14,
   "id": "60a68097-db46-43e2-9ef3-fc8f2b19b2e9",
   "metadata": {},
   "outputs": [
    {
     "ename": "IndexError",
     "evalue": "string index out of range",
     "output_type": "error",
     "traceback": [
      "\u001b[1;31m---------------------------------------------------------------------------\u001b[0m",
      "\u001b[1;31mIndexError\u001b[0m                                Traceback (most recent call last)",
      "Cell \u001b[1;32mIn[14], line 1\u001b[0m\n\u001b[1;32m----> 1\u001b[0m \u001b[38;5;28mprint\u001b[39m(\u001b[43mname\u001b[49m\u001b[43m[\u001b[49m\u001b[38;5;241;43m100\u001b[39;49m\u001b[43m]\u001b[49m)\n",
      "\u001b[1;31mIndexError\u001b[0m: string index out of range"
     ]
    }
   ],
   "source": [
    "# IndexError\n",
    "print(name[100])"
   ]
  },
  {
   "cell_type": "code",
   "execution_count": 19,
   "id": "581b1007-5f3d-42e7-8372-83713bed7df0",
   "metadata": {},
   "outputs": [
    {
     "ename": "IndexError",
     "evalue": "string index out of range",
     "output_type": "error",
     "traceback": [
      "\u001b[1;31m---------------------------------------------------------------------------\u001b[0m",
      "\u001b[1;31mIndexError\u001b[0m                                Traceback (most recent call last)",
      "Cell \u001b[1;32mIn[19], line 1\u001b[0m\n\u001b[1;32m----> 1\u001b[0m \u001b[38;5;28mprint\u001b[39m(\u001b[43mname\u001b[49m\u001b[43m[\u001b[49m\u001b[38;5;241;43m-\u001b[39;49m\u001b[38;5;241;43m100\u001b[39;49m\u001b[43m]\u001b[49m)\n",
      "\u001b[1;31mIndexError\u001b[0m: string index out of range"
     ]
    }
   ],
   "source": [
    "print(name[-100])"
   ]
  },
  {
   "cell_type": "code",
   "execution_count": 21,
   "id": "ca6d0cd5-b5f8-407b-8257-83955e64b68c",
   "metadata": {},
   "outputs": [
    {
     "data": {
      "text/plain": [
       "13"
      ]
     },
     "execution_count": 21,
     "metadata": {},
     "output_type": "execute_result"
    }
   ],
   "source": [
    "# len()\n",
    "len(name)"
   ]
  },
  {
   "cell_type": "code",
   "execution_count": 27,
   "id": "aee80caf-7c19-4b20-9b17-18ea219ba571",
   "metadata": {},
   "outputs": [
    {
     "name": "stdout",
     "output_type": "stream",
     "text": [
      "True\n",
      "True\n",
      "False\n",
      "True\n",
      "False\n"
     ]
    }
   ],
   "source": [
    "# membership operators and strings\n",
    "my_snacks = 'samosa,jalebi'\n",
    "print('samosa' in my_snacks)\n",
    "print('s' in my_snacks)\n",
    "print('z' in my_snacks)\n",
    "print('y' not in my_snacks)\n",
    "print('jal' not in my_snacks)"
   ]
  },
  {
   "cell_type": "code",
   "execution_count": 29,
   "id": "912aa903-e75a-4f0f-93e0-d92ebe6454a2",
   "metadata": {},
   "outputs": [
    {
     "name": "stdout",
     "output_type": "stream",
     "text": [
      "True\n",
      "False\n"
     ]
    }
   ],
   "source": [
    "print(',' in my_snacks)\n",
    "print('salad' in my_snacks)"
   ]
  },
  {
   "cell_type": "code",
   "execution_count": 30,
   "id": "c5e1eda3-8689-43e2-84fc-a77bd2e3466a",
   "metadata": {},
   "outputs": [],
   "source": [
    "# \\n"
   ]
  },
  {
   "cell_type": "code",
   "execution_count": 37,
   "id": "3cbe1b1a-f797-4b16-b931-754ab587882e",
   "metadata": {},
   "outputs": [
    {
     "data": {
      "text/plain": [
       "'the patient was charged $100 for the lab test'"
      ]
     },
     "execution_count": 37,
     "metadata": {},
     "output_type": "execute_result"
    }
   ],
   "source": [
    "# replace()\n",
    "s = 'the patient was charged $100 for the lab test'\n",
    "s"
   ]
  },
  {
   "cell_type": "code",
   "execution_count": 38,
   "id": "66184f05-7320-411f-a628-0841db58534e",
   "metadata": {},
   "outputs": [
    {
     "name": "stdout",
     "output_type": "stream",
     "text": [
      "the patient was charged $100 for the lab test\n",
      "the patient was charged $50 for the lab test\n",
      "the patient was charged $50 for the lab test\n"
     ]
    }
   ],
   "source": [
    "new_s = s.replace('$100','$50')\n",
    "print(s)\n",
    "print(new_s)\n",
    "s = s.replace('$100','$50')\n",
    "print(s)"
   ]
  },
  {
   "cell_type": "code",
   "execution_count": null,
   "id": "b3542820-96e4-45ef-a1e1-088ae81fc918",
   "metadata": {},
   "outputs": [],
   "source": [
    "# s.lower()\n",
    "# s.upper()\n",
    "# s.isdigit()\n",
    "# s.index('was')"
   ]
  },
  {
   "cell_type": "code",
   "execution_count": 39,
   "id": "be52aaca-8eb6-40ce-9d85-b551e89e3a4f",
   "metadata": {},
   "outputs": [
    {
     "ename": "TypeError",
     "evalue": "can only concatenate str (not \"int\") to str",
     "output_type": "error",
     "traceback": [
      "\u001b[1;31m---------------------------------------------------------------------------\u001b[0m",
      "\u001b[1;31mTypeError\u001b[0m                                 Traceback (most recent call last)",
      "Cell \u001b[1;32mIn[39], line 3\u001b[0m\n\u001b[0;32m      1\u001b[0m text \u001b[38;5;241m=\u001b[39m \u001b[38;5;124m'\u001b[39m\u001b[38;5;124mMy age is : \u001b[39m\u001b[38;5;124m'\u001b[39m\n\u001b[0;32m      2\u001b[0m age \u001b[38;5;241m=\u001b[39m \u001b[38;5;241m108\u001b[39m\n\u001b[1;32m----> 3\u001b[0m \u001b[38;5;28mprint\u001b[39m(\u001b[43mtext\u001b[49m\u001b[38;5;241;43m+\u001b[39;49m\u001b[43mage\u001b[49m)\n",
      "\u001b[1;31mTypeError\u001b[0m: can only concatenate str (not \"int\") to str"
     ]
    }
   ],
   "source": [
    "# str()\n",
    "text = 'My age is : '\n",
    "age = 108\n",
    "print(text+age)"
   ]
  },
  {
   "cell_type": "code",
   "execution_count": 43,
   "id": "9c4280f9-746a-41f5-9bd6-4fa8e8cd59e9",
   "metadata": {},
   "outputs": [
    {
     "name": "stdout",
     "output_type": "stream",
     "text": [
      "My age is : 108\n",
      "My age is : 108 years\n"
     ]
    }
   ],
   "source": [
    "print(text + str(age))\n",
    "# Alternatively\n",
    "print(f'{text}{age} years')"
   ]
  },
  {
   "cell_type": "code",
   "execution_count": 44,
   "id": "4115005f-e773-4c8f-ad3c-2a6cd016fe74",
   "metadata": {},
   "outputs": [
    {
     "name": "stdout",
     "output_type": "stream",
     "text": [
      "hey\tbro\n"
     ]
    }
   ],
   "source": [
    "# \\t\n",
    "print('hey\\tbro')"
   ]
  },
  {
   "cell_type": "code",
   "execution_count": 45,
   "id": "d3aefcab-eee5-4452-80f5-1c116177d1e7",
   "metadata": {},
   "outputs": [
    {
     "name": "stdout",
     "output_type": "stream",
     "text": [
      "Skill\n"
     ]
    }
   ],
   "source": [
    "string = \"CodeBasics\"\n",
    "print(string[:4].replace(\"Code\", \"Skill\"))"
   ]
  },
  {
   "cell_type": "code",
   "execution_count": null,
   "id": "f4691809-5b06-49ad-91df-24e096ab221b",
   "metadata": {},
   "outputs": [],
   "source": []
  }
 ],
 "metadata": {
  "kernelspec": {
   "display_name": "Python 3 (ipykernel)",
   "language": "python",
   "name": "python3"
  },
  "language_info": {
   "codemirror_mode": {
    "name": "ipython",
    "version": 3
   },
   "file_extension": ".py",
   "mimetype": "text/x-python",
   "name": "python",
   "nbconvert_exporter": "python",
   "pygments_lexer": "ipython3",
   "version": "3.12.2"
  }
 },
 "nbformat": 4,
 "nbformat_minor": 5
}
