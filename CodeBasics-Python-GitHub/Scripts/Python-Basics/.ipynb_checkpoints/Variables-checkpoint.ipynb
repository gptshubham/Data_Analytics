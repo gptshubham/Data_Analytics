{
 "cells": [
  {
   "cell_type": "code",
   "execution_count": 5,
   "id": "96cd90e2-e444-452d-9d4e-8666c21828e0",
   "metadata": {},
   "outputs": [
    {
     "name": "stdout",
     "output_type": "stream",
     "text": [
      "soda\n"
     ]
    }
   ],
   "source": [
    "can = \"soda\"\n",
    "print(can)"
   ]
  },
  {
   "cell_type": "code",
   "execution_count": 6,
   "id": "fc7d20ae-660f-44a9-a677-97884729e635",
   "metadata": {},
   "outputs": [
    {
     "name": "stdout",
     "output_type": "stream",
     "text": [
      "beans\n"
     ]
    }
   ],
   "source": [
    "can = \"beans\"\n",
    "print(can)"
   ]
  },
  {
   "cell_type": "code",
   "execution_count": 7,
   "id": "37e11b7f-8265-400b-8542-c686c834d406",
   "metadata": {},
   "outputs": [
    {
     "name": "stdout",
     "output_type": "stream",
     "text": [
      "<class 'str'>\n"
     ]
    }
   ],
   "source": [
    "print(type(can))"
   ]
  },
  {
   "cell_type": "code",
   "execution_count": 8,
   "id": "eeb44812-0cbb-48f3-88f1-53ec960c9aba",
   "metadata": {},
   "outputs": [],
   "source": [
    "first_name = \"shubham\"\n",
    "last_name = 'gupta'"
   ]
  },
  {
   "cell_type": "code",
   "execution_count": 9,
   "id": "8c0d15d6-db32-4563-9468-c5c79528902e",
   "metadata": {},
   "outputs": [
    {
     "name": "stdout",
     "output_type": "stream",
     "text": [
      "<class 'str'>\n"
     ]
    }
   ],
   "source": [
    "print(type(first_name))"
   ]
  },
  {
   "cell_type": "code",
   "execution_count": 10,
   "id": "c74385c4-c03c-43e3-b1de-1c3e73129770",
   "metadata": {},
   "outputs": [],
   "source": [
    "pizza = 100"
   ]
  },
  {
   "cell_type": "code",
   "execution_count": 11,
   "id": "c181794a-1c78-4155-b7b7-7c4623548048",
   "metadata": {},
   "outputs": [
    {
     "name": "stdout",
     "output_type": "stream",
     "text": [
      "100\n",
      "<class 'int'>\n"
     ]
    }
   ],
   "source": [
    "print(pizza)\n",
    "print(type(pizza))"
   ]
  },
  {
   "cell_type": "code",
   "execution_count": 12,
   "id": "e1640b31-a42a-49ee-a069-44217adc89b9",
   "metadata": {},
   "outputs": [],
   "source": [
    "samosa = 20.5"
   ]
  },
  {
   "cell_type": "code",
   "execution_count": 13,
   "id": "58ab2c63-0851-406f-9321-c762bf0a417d",
   "metadata": {},
   "outputs": [
    {
     "name": "stdout",
     "output_type": "stream",
     "text": [
      "20.5\n",
      "<class 'float'>\n"
     ]
    }
   ],
   "source": [
    "print(samosa)\n",
    "print(type(samosa))"
   ]
  },
  {
   "cell_type": "code",
   "execution_count": 14,
   "id": "c6aed025-2d70-466d-aed4-1e56fe16c8c4",
   "metadata": {},
   "outputs": [],
   "source": [
    "ice_cream = 40"
   ]
  },
  {
   "cell_type": "code",
   "execution_count": 15,
   "id": "5a634047-2764-464a-b8a0-bc8b597820b2",
   "metadata": {},
   "outputs": [
    {
     "name": "stdout",
     "output_type": "stream",
     "text": [
      "160.5\n",
      "<class 'float'>\n"
     ]
    }
   ],
   "source": [
    "total = pizza + samosa + ice_cream\n",
    "print(total)\n",
    "print(type(total))"
   ]
  },
  {
   "cell_type": "code",
   "execution_count": 16,
   "id": "da8b31dc-fa0d-42e7-b530-66e2357c6693",
   "metadata": {},
   "outputs": [
    {
     "name": "stdout",
     "output_type": "stream",
     "text": [
      "<class 'bool'>\n",
      "<class 'bool'>\n"
     ]
    }
   ],
   "source": [
    "learn_python = True\n",
    "learn_java = False\n",
    "print(type(learn_python))\n",
    "print(type(learn_java))"
   ]
  },
  {
   "cell_type": "code",
   "execution_count": 17,
   "id": "b2353fb7-15fb-4908-8f00-a16355dedb44",
   "metadata": {},
   "outputs": [
    {
     "name": "stdout",
     "output_type": "stream",
     "text": [
      "jalebi\n"
     ]
    }
   ],
   "source": [
    "food = \"jalebi\"\n",
    "print(food)"
   ]
  },
  {
   "cell_type": "code",
   "execution_count": 18,
   "id": "8e44cd90-5e19-4053-95e8-c86fa404d83f",
   "metadata": {},
   "outputs": [
    {
     "name": "stdout",
     "output_type": "stream",
     "text": [
      "jalebi\n"
     ]
    }
   ],
   "source": [
    "bar = food\n",
    "print(bar)"
   ]
  },
  {
   "cell_type": "code",
   "execution_count": 19,
   "id": "87f814c8-22a6-4576-9088-9165a0f086c4",
   "metadata": {},
   "outputs": [
    {
     "name": "stdout",
     "output_type": "stream",
     "text": [
      "1314193374064\n",
      "1314193374064\n"
     ]
    }
   ],
   "source": [
    "print(id(food))\n",
    "print(id(bar))"
   ]
  },
  {
   "cell_type": "code",
   "execution_count": 20,
   "id": "b931e853-5c29-4718-905d-31bd0665d0a4",
   "metadata": {},
   "outputs": [
    {
     "name": "stdout",
     "output_type": "stream",
     "text": [
      "samosa\n"
     ]
    }
   ],
   "source": [
    "bar = \"samosa\"\n",
    "print(bar)"
   ]
  },
  {
   "cell_type": "code",
   "execution_count": 21,
   "id": "ec55ec1a-9720-45db-9bac-3d4fdf015487",
   "metadata": {},
   "outputs": [
    {
     "name": "stdout",
     "output_type": "stream",
     "text": [
      "1314193374064\n",
      "1314193490784\n"
     ]
    }
   ],
   "source": [
    "print(id(food))\n",
    "print(id(bar))"
   ]
  },
  {
   "cell_type": "code",
   "execution_count": null,
   "id": "54a2b485-f9ab-41d9-b279-5e9c6c0af6f1",
   "metadata": {},
   "outputs": [],
   "source": [
    "# naming conventions in Python --> snake_case\n",
    "# too basic for my current level --> skipped"
   ]
  }
 ],
 "metadata": {
  "kernelspec": {
   "display_name": "Python 3 (ipykernel)",
   "language": "python",
   "name": "python3"
  },
  "language_info": {
   "codemirror_mode": {
    "name": "ipython",
    "version": 3
   },
   "file_extension": ".py",
   "mimetype": "text/x-python",
   "name": "python",
   "nbconvert_exporter": "python",
   "pygments_lexer": "ipython3",
   "version": "3.12.2"
  }
 },
 "nbformat": 4,
 "nbformat_minor": 5
}
