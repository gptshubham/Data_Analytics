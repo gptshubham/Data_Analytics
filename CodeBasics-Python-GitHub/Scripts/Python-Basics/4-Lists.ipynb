{
 "cells": [
  {
   "cell_type": "code",
   "execution_count": 1,
   "id": "423da83c-dd21-404a-a623-59b3a7d933ec",
   "metadata": {},
   "outputs": [],
   "source": [
    "item1 = 'bread'\n",
    "item2 = 'pasta'\n",
    "item3 = 'cheese'\n",
    "item4 = 'veggies'"
   ]
  },
  {
   "cell_type": "code",
   "execution_count": 2,
   "id": "dfe32728-a760-4415-9c64-80c2cc543ac1",
   "metadata": {},
   "outputs": [
    {
     "data": {
      "text/plain": [
       "['bread', 'pasta', 'cheese', 'veggies']"
      ]
     },
     "execution_count": 2,
     "metadata": {},
     "output_type": "execute_result"
    }
   ],
   "source": [
    "items = ['bread','pasta','cheese','veggies']\n",
    "items"
   ]
  },
  {
   "cell_type": "code",
   "execution_count": 3,
   "id": "cbd43760-a7ed-47f4-95ff-de4903c0b82e",
   "metadata": {},
   "outputs": [
    {
     "data": {
      "text/plain": [
       "'veggies'"
      ]
     },
     "execution_count": 3,
     "metadata": {},
     "output_type": "execute_result"
    }
   ],
   "source": [
    "# Indexing\n",
    "items[0]\n",
    "items[-1]"
   ]
  },
  {
   "cell_type": "code",
   "execution_count": 4,
   "id": "7d0d7507-0d59-4970-b68b-2c5ccf296736",
   "metadata": {},
   "outputs": [
    {
     "data": {
      "text/plain": [
       "['bread', 'pasta']"
      ]
     },
     "execution_count": 4,
     "metadata": {},
     "output_type": "execute_result"
    }
   ],
   "source": [
    "# Slicing\n",
    "items[:2]"
   ]
  },
  {
   "cell_type": "code",
   "execution_count": 5,
   "id": "ca6ebfdb-32a5-4ce2-b191-0aa491a14b0f",
   "metadata": {},
   "outputs": [
    {
     "data": {
      "text/plain": [
       "['veggies', 'cheese', 'pasta', 'bread']"
      ]
     },
     "execution_count": 5,
     "metadata": {},
     "output_type": "execute_result"
    }
   ],
   "source": [
    "items[::-1]"
   ]
  },
  {
   "cell_type": "code",
   "execution_count": 6,
   "id": "038c0ecd-fab1-4b3c-b9ec-6c7656586661",
   "metadata": {},
   "outputs": [
    {
     "data": {
      "text/plain": [
       "['bread', 'pasta', 'cheese', 'veggies', 'butter']"
      ]
     },
     "execution_count": 6,
     "metadata": {},
     "output_type": "execute_result"
    }
   ],
   "source": [
    "# append()\n",
    "items.append('butter')\n",
    "items"
   ]
  },
  {
   "cell_type": "code",
   "execution_count": 8,
   "id": "04959560-dfb6-429a-aab4-2141b7793839",
   "metadata": {},
   "outputs": [
    {
     "data": {
      "text/plain": [
       "['bread', 'butter', 'pasta', 'cheese', 'veggies']"
      ]
     },
     "execution_count": 8,
     "metadata": {},
     "output_type": "execute_result"
    }
   ],
   "source": [
    "# insert(index,object) --> expensive than append in terms of memory optimization \n",
    "items = ['bread','pasta','cheese','veggies']\n",
    "items.insert(1,'butter')\n",
    "items"
   ]
  },
  {
   "cell_type": "code",
   "execution_count": 9,
   "id": "dc0c43f7-b5ae-4207-a6aa-d72a61aa09e0",
   "metadata": {},
   "outputs": [
    {
     "data": {
      "text/plain": [
       "['bread', 'butter', 'cheese', 'veggies']"
      ]
     },
     "execution_count": 9,
     "metadata": {},
     "output_type": "execute_result"
    }
   ],
   "source": [
    "# remove()\n",
    "items.remove('pasta')\n",
    "items"
   ]
  },
  {
   "cell_type": "code",
   "execution_count": 10,
   "id": "e5fad34a-3ca0-4133-8b9a-2c670479d9d3",
   "metadata": {},
   "outputs": [
    {
     "ename": "ValueError",
     "evalue": "list.remove(x): x not in list",
     "output_type": "error",
     "traceback": [
      "\u001b[1;31m---------------------------------------------------------------------------\u001b[0m",
      "\u001b[1;31mValueError\u001b[0m                                Traceback (most recent call last)",
      "Cell \u001b[1;32mIn[10], line 1\u001b[0m\n\u001b[1;32m----> 1\u001b[0m \u001b[43mitems\u001b[49m\u001b[38;5;241;43m.\u001b[39;49m\u001b[43mremove\u001b[49m\u001b[43m(\u001b[49m\u001b[38;5;124;43m'\u001b[39;49m\u001b[38;5;124;43mcoke\u001b[39;49m\u001b[38;5;124;43m'\u001b[39;49m\u001b[43m)\u001b[49m\n",
      "\u001b[1;31mValueError\u001b[0m: list.remove(x): x not in list"
     ]
    }
   ],
   "source": [
    "items.remove('coke')"
   ]
  },
  {
   "cell_type": "code",
   "execution_count": 11,
   "id": "a5f5b6db-2afd-4f76-8fb2-7cca18883681",
   "metadata": {},
   "outputs": [
    {
     "data": {
      "text/plain": [
       "False"
      ]
     },
     "execution_count": 11,
     "metadata": {},
     "output_type": "execute_result"
    }
   ],
   "source": [
    "# membership operators and lists \n",
    "'coke' in items"
   ]
  },
  {
   "cell_type": "code",
   "execution_count": 12,
   "id": "ad3f9406-68b2-4589-b376-28996549c1c4",
   "metadata": {},
   "outputs": [
    {
     "data": {
      "text/plain": [
       "True"
      ]
     },
     "execution_count": 12,
     "metadata": {},
     "output_type": "execute_result"
    }
   ],
   "source": [
    "'bread' in items "
   ]
  },
  {
   "cell_type": "code",
   "execution_count": 13,
   "id": "b72d14f4-99ac-4c01-8383-06628816fe70",
   "metadata": {},
   "outputs": [
    {
     "data": {
      "text/plain": [
       "True"
      ]
     },
     "execution_count": 13,
     "metadata": {},
     "output_type": "execute_result"
    }
   ],
   "source": [
    "'rice' not in items"
   ]
  },
  {
   "cell_type": "code",
   "execution_count": 14,
   "id": "d0e5986a-b567-44c2-835c-f2cc6f34ad32",
   "metadata": {},
   "outputs": [
    {
     "data": {
      "text/plain": [
       "[30, 1200, 45, 300]"
      ]
     },
     "execution_count": 14,
     "metadata": {},
     "output_type": "execute_result"
    }
   ],
   "source": [
    "# sorting a list - ascending order \n",
    "expenses = [30,1200,45,300]\n",
    "expenses"
   ]
  },
  {
   "cell_type": "code",
   "execution_count": 16,
   "id": "3fd2ae2e-a2fe-4c36-b19d-2336dd0cec86",
   "metadata": {},
   "outputs": [
    {
     "data": {
      "text/plain": [
       "[30, 45, 300, 1200]"
      ]
     },
     "execution_count": 16,
     "metadata": {},
     "output_type": "execute_result"
    }
   ],
   "source": [
    "expenses.sort()\n",
    "expenses"
   ]
  },
  {
   "cell_type": "code",
   "execution_count": 17,
   "id": "58bcd560-b781-4c0f-80d0-107886fe1c96",
   "metadata": {},
   "outputs": [
    {
     "data": {
      "text/plain": [
       "[30, 1200, 45, 300]"
      ]
     },
     "execution_count": 17,
     "metadata": {},
     "output_type": "execute_result"
    }
   ],
   "source": [
    "# sorting a list - descending order \n",
    "expenses = [30,1200,45,300]\n",
    "expenses"
   ]
  },
  {
   "cell_type": "code",
   "execution_count": 18,
   "id": "281f0f83-d8cf-4e34-a0ae-f48e534e7292",
   "metadata": {},
   "outputs": [
    {
     "data": {
      "text/plain": [
       "[1200, 300, 45, 30]"
      ]
     },
     "execution_count": 18,
     "metadata": {},
     "output_type": "execute_result"
    }
   ],
   "source": [
    "expenses.sort(reverse=True)\n",
    "expenses"
   ]
  },
  {
   "cell_type": "code",
   "execution_count": 20,
   "id": "8040ce3d-1f72-4c07-9b69-3b117a2f1b31",
   "metadata": {},
   "outputs": [
    {
     "name": "stdout",
     "output_type": "stream",
     "text": [
      "['bread', 'cheese', 'pasta', 'veggies']\n",
      "['bread', 'cheese', 'pasta', 'veggies']\n"
     ]
    }
   ],
   "source": [
    "# sorting a list - alphabetically \n",
    "items = ['bread','pasta','cheese','veggies']\n",
    "new_items = items \n",
    "items.sort()\n",
    "print(items)\n",
    "print(new_items)"
   ]
  },
  {
   "cell_type": "code",
   "execution_count": 22,
   "id": "1af06871-f0ac-42a4-87bf-853f710fc4b9",
   "metadata": {},
   "outputs": [
    {
     "data": {
      "text/plain": [
       "['veggies', 'pasta', 'cheese', 'bread']"
      ]
     },
     "execution_count": 22,
     "metadata": {},
     "output_type": "execute_result"
    }
   ],
   "source": [
    "items = ['bread','pasta','cheese','veggies']\n",
    "items.sort(reverse=True)\n",
    "items"
   ]
  },
  {
   "cell_type": "code",
   "execution_count": 23,
   "id": "06b706a4-6693-45e1-8b1b-fc142349f162",
   "metadata": {},
   "outputs": [
    {
     "data": {
      "text/plain": [
       "['mixture', 'kurkure', 'chips', 'coke', 'pepsi', 'Appy Fizz']"
      ]
     },
     "execution_count": 23,
     "metadata": {},
     "output_type": "execute_result"
    }
   ],
   "source": [
    "# list concatenation\n",
    "snacks = ['mixture','kurkure','chips']\n",
    "drinks = ['coke','pepsi','Appy Fizz']\n",
    "snacks_and_drinks = snacks + drinks \n",
    "snacks_and_drinks"
   ]
  },
  {
   "cell_type": "code",
   "execution_count": 24,
   "id": "73118bb7-2678-4648-9bde-55ba632360e9",
   "metadata": {},
   "outputs": [
    {
     "data": {
      "text/plain": [
       "['__add__',\n",
       " '__class__',\n",
       " '__class_getitem__',\n",
       " '__contains__',\n",
       " '__delattr__',\n",
       " '__delitem__',\n",
       " '__dir__',\n",
       " '__doc__',\n",
       " '__eq__',\n",
       " '__format__',\n",
       " '__ge__',\n",
       " '__getattribute__',\n",
       " '__getitem__',\n",
       " '__getstate__',\n",
       " '__gt__',\n",
       " '__hash__',\n",
       " '__iadd__',\n",
       " '__imul__',\n",
       " '__init__',\n",
       " '__init_subclass__',\n",
       " '__iter__',\n",
       " '__le__',\n",
       " '__len__',\n",
       " '__lt__',\n",
       " '__mul__',\n",
       " '__ne__',\n",
       " '__new__',\n",
       " '__reduce__',\n",
       " '__reduce_ex__',\n",
       " '__repr__',\n",
       " '__reversed__',\n",
       " '__rmul__',\n",
       " '__setattr__',\n",
       " '__setitem__',\n",
       " '__sizeof__',\n",
       " '__str__',\n",
       " '__subclasshook__',\n",
       " 'append',\n",
       " 'clear',\n",
       " 'copy',\n",
       " 'count',\n",
       " 'extend',\n",
       " 'index',\n",
       " 'insert',\n",
       " 'pop',\n",
       " 'remove',\n",
       " 'reverse',\n",
       " 'sort']"
      ]
     },
     "execution_count": 24,
     "metadata": {},
     "output_type": "execute_result"
    }
   ],
   "source": [
    "dir(snacks_and_drinks)"
   ]
  },
  {
   "cell_type": "code",
   "execution_count": 31,
   "id": "09957847-963e-4fe8-8a64-60ca5371b53f",
   "metadata": {},
   "outputs": [
    {
     "data": {
      "text/plain": [
       "['mixture', 'kurkure', 'chips', 'coke', 'pepsi', 'Appy Fizz']"
      ]
     },
     "execution_count": 31,
     "metadata": {},
     "output_type": "execute_result"
    }
   ],
   "source": [
    "# reverse()\n",
    "snacks_and_drinks"
   ]
  },
  {
   "cell_type": "code",
   "execution_count": 32,
   "id": "151f4dcd-6a2b-4d7a-8302-b3e63bc39ec1",
   "metadata": {},
   "outputs": [
    {
     "data": {
      "text/plain": [
       "['Appy Fizz', 'pepsi', 'coke', 'chips', 'kurkure', 'mixture']"
      ]
     },
     "execution_count": 32,
     "metadata": {},
     "output_type": "execute_result"
    }
   ],
   "source": [
    "snacks_and_drinks.reverse()\n",
    "snacks_and_drinks"
   ]
  },
  {
   "cell_type": "code",
   "execution_count": 33,
   "id": "27e2b613-509a-4fb6-9b83-9d4f5220776a",
   "metadata": {},
   "outputs": [
    {
     "data": {
      "text/plain": [
       "'Appy Fizz'"
      ]
     },
     "execution_count": 33,
     "metadata": {},
     "output_type": "execute_result"
    }
   ],
   "source": [
    "snacks_and_drinks[0]"
   ]
  },
  {
   "cell_type": "code",
   "execution_count": 34,
   "id": "014e6d7d-2799-4550-832c-dcb4f7b1f994",
   "metadata": {},
   "outputs": [
    {
     "data": {
      "text/plain": [
       "['veggies', 'pasta', 'cheese', 'bread']"
      ]
     },
     "execution_count": 34,
     "metadata": {},
     "output_type": "execute_result"
    }
   ],
   "source": [
    "items"
   ]
  },
  {
   "cell_type": "code",
   "execution_count": 42,
   "id": "c59bdea3-1e11-4f84-9128-c46d84fb27b1",
   "metadata": {},
   "outputs": [
    {
     "name": "stdout",
     "output_type": "stream",
     "text": [
      "<list_reverseiterator object at 0x000002530EF9F8E0>\n",
      "bread cheese pasta veggies "
     ]
    }
   ],
   "source": [
    "print(reversed(items))\n",
    "for item in reversed(items): \n",
    "    print(item,end=' ') "
   ]
  },
  {
   "cell_type": "code",
   "execution_count": 39,
   "id": "ece904b1-17d7-4544-a511-1cf523227a4b",
   "metadata": {},
   "outputs": [
    {
     "data": {
      "text/plain": [
       "['veggies', 'pasta', 'cheese', 'bread']"
      ]
     },
     "execution_count": 39,
     "metadata": {},
     "output_type": "execute_result"
    }
   ],
   "source": [
    "items"
   ]
  },
  {
   "cell_type": "code",
   "execution_count": null,
   "id": "7737b81a-06f0-439c-af84-168df27f049c",
   "metadata": {},
   "outputs": [],
   "source": [
    "# reverse() vs. reversed() \n",
    "# reverse() --> method of list class \n",
    "# reversed() --> function "
   ]
  },
  {
   "cell_type": "code",
   "execution_count": 43,
   "id": "a1fb5510-c676-409f-81b9-b2f032efa126",
   "metadata": {},
   "outputs": [
    {
     "data": {
      "text/plain": [
       "['Titanic', 'Avengers-Endgame', 'Avatar']"
      ]
     },
     "execution_count": 43,
     "metadata": {},
     "output_type": "execute_result"
    }
   ],
   "source": [
    "movies = [\"Jurassic World\",\"Spider-man\",\"Titanic\",\"Avengers-Endgame\",\"Avatar\"]\n",
    "movies[-3:]"
   ]
  },
  {
   "cell_type": "code",
   "execution_count": null,
   "id": "3ee2b605-12f6-4965-b76c-1e25baf61013",
   "metadata": {},
   "outputs": [],
   "source": []
  }
 ],
 "metadata": {
  "kernelspec": {
   "display_name": "Python 3 (ipykernel)",
   "language": "python",
   "name": "python3"
  },
  "language_info": {
   "codemirror_mode": {
    "name": "ipython",
    "version": 3
   },
   "file_extension": ".py",
   "mimetype": "text/x-python",
   "name": "python",
   "nbconvert_exporter": "python",
   "pygments_lexer": "ipython3",
   "version": "3.12.2"
  }
 },
 "nbformat": 4,
 "nbformat_minor": 5
}
