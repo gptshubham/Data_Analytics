{
 "cells": [
  {
   "cell_type": "code",
   "execution_count": 5,
   "id": "0593c359-0647-445f-851b-5f0c6669724d",
   "metadata": {},
   "outputs": [],
   "source": [
    "# evaluate area of triangle\n",
    "base = 10.5\n",
    "height = 7"
   ]
  },
  {
   "cell_type": "code",
   "execution_count": 7,
   "id": "08603fca-292c-4fcb-a12e-1528c17314fb",
   "metadata": {},
   "outputs": [
    {
     "name": "stdout",
     "output_type": "stream",
     "text": [
      "<class 'float'>\n",
      "<class 'int'>\n"
     ]
    }
   ],
   "source": [
    "print(type(base))\n",
    "print(type(height))"
   ]
  },
  {
   "cell_type": "code",
   "execution_count": 8,
   "id": "0f5ee3d4-fb65-448e-8504-58e90680c77c",
   "metadata": {},
   "outputs": [
    {
     "name": "stdout",
     "output_type": "stream",
     "text": [
      "36.75\n",
      "<class 'float'>\n"
     ]
    }
   ],
   "source": [
    "area = 1/2 * base * height\n",
    "print(area)\n",
    "print(type(area))"
   ]
  },
  {
   "cell_type": "code",
   "execution_count": 9,
   "id": "57cc61c7-3810-4898-b719-461e4183bb48",
   "metadata": {},
   "outputs": [
    {
     "data": {
      "text/plain": [
       "23000.0"
      ]
     },
     "execution_count": 9,
     "metadata": {},
     "output_type": "execute_result"
    }
   ],
   "source": [
    "# Scientific Notation\n",
    "foo = 2.3e4\n",
    "foo"
   ]
  },
  {
   "cell_type": "code",
   "execution_count": 10,
   "id": "95144572-e4e4-4000-b2bf-3f6d43bd0eb1",
   "metadata": {},
   "outputs": [
    {
     "data": {
      "text/plain": [
       "0.0023"
      ]
     },
     "execution_count": 10,
     "metadata": {},
     "output_type": "execute_result"
    }
   ],
   "source": [
    "bar = 2.3e-3\n",
    "bar"
   ]
  },
  {
   "cell_type": "code",
   "execution_count": 13,
   "id": "3d781752-f2c9-47fa-9f00-e111fcb55d55",
   "metadata": {},
   "outputs": [],
   "source": [
    "# Total Expense Example\n",
    "food = 120.34\n",
    "rent = 500.4\n",
    "utilities = 200.5"
   ]
  },
  {
   "cell_type": "code",
   "execution_count": 12,
   "id": "c163bf2a-f058-4565-ab18-c3a36ca06277",
   "metadata": {},
   "outputs": [
    {
     "name": "stdout",
     "output_type": "stream",
     "text": [
      "821.24\n"
     ]
    }
   ],
   "source": [
    "total_expense = food + rent + utilities\n",
    "print(total_expense)"
   ]
  },
  {
   "cell_type": "code",
   "execution_count": 14,
   "id": "e5a30a6f-c023-40c2-9e64-8eb6810242b7",
   "metadata": {},
   "outputs": [
    {
     "data": {
      "text/plain": [
       "821"
      ]
     },
     "execution_count": 14,
     "metadata": {},
     "output_type": "execute_result"
    }
   ],
   "source": [
    "round(total_expense)"
   ]
  },
  {
   "cell_type": "code",
   "execution_count": 15,
   "id": "c95f646a-7c95-4af0-86f9-fa643e5b32d5",
   "metadata": {},
   "outputs": [
    {
     "name": "stdout",
     "output_type": "stream",
     "text": [
      "120.34500.4\n"
     ]
    }
   ],
   "source": [
    "# String Concatenation\n",
    "food = '120.34'\n",
    "rent = '500.4'\n",
    "print(food + rent)"
   ]
  },
  {
   "cell_type": "code",
   "execution_count": 18,
   "id": "827acc27-e443-43d8-a01a-8ccf6d36eddc",
   "metadata": {},
   "outputs": [
    {
     "name": "stdout",
     "output_type": "stream",
     "text": [
      "101\n",
      "0b101\n"
     ]
    }
   ],
   "source": [
    "# binary representation of Integers\n",
    "print(format(5,'b'))\n",
    "print(bin(5))"
   ]
  },
  {
   "cell_type": "code",
   "execution_count": 22,
   "id": "04f0b73a-f1c8-4bc0-ac3b-b1d81361c5ca",
   "metadata": {},
   "outputs": [
    {
     "name": "stdout",
     "output_type": "stream",
     "text": [
      "2466\n",
      "0o2466\n"
     ]
    }
   ],
   "source": [
    "# Octal Representation of a Integers\n",
    "print(format(1334,'o'))\n",
    "print(oct(1334))"
   ]
  },
  {
   "cell_type": "code",
   "execution_count": 2,
   "id": "441cd462-8135-408c-8f69-54ab4d4d610e",
   "metadata": {},
   "outputs": [
    {
     "name": "stdout",
     "output_type": "stream",
     "text": [
      "536\n",
      "0x536\n"
     ]
    }
   ],
   "source": [
    "# Hexadecimal Representation\n",
    "print(format(1334,'x'))\n",
    "print(hex(1334))"
   ]
  },
  {
   "cell_type": "code",
   "execution_count": 8,
   "id": "3b20fae1-85e6-48be-b646-d46ec81c82f6",
   "metadata": {},
   "outputs": [
    {
     "name": "stdout",
     "output_type": "stream",
     "text": [
      "1334\n",
      "1334\n",
      "5\n"
     ]
    }
   ],
   "source": [
    "# Decimal Representation\n",
    "print(format(0x536,'d'))\n",
    "print(format(0o2466,'d'))\n",
    "print(format(0b101,'d'))"
   ]
  },
  {
   "cell_type": "code",
   "execution_count": 23,
   "id": "98f06730-aab0-4225-96b5-e402ce7e584d",
   "metadata": {},
   "outputs": [
    {
     "data": {
      "text/plain": [
       "'1001'"
      ]
     },
     "execution_count": 23,
     "metadata": {},
     "output_type": "execute_result"
    }
   ],
   "source": [
    "format(9,'b')"
   ]
  },
  {
   "cell_type": "code",
   "execution_count": 24,
   "id": "7cf1ca24-3c10-4730-8f8e-8cf5fb4385e4",
   "metadata": {},
   "outputs": [
    {
     "name": "stdout",
     "output_type": "stream",
     "text": [
      "<class 'float'>\n"
     ]
    }
   ],
   "source": [
    "print(type(1.2e3))"
   ]
  },
  {
   "cell_type": "code",
   "execution_count": null,
   "id": "dcef7bfe-4e1a-4ac9-a1f7-a9140fc4bb0d",
   "metadata": {},
   "outputs": [],
   "source": []
  }
 ],
 "metadata": {
  "kernelspec": {
   "display_name": "Python 3 (ipykernel)",
   "language": "python",
   "name": "python3"
  },
  "language_info": {
   "codemirror_mode": {
    "name": "ipython",
    "version": 3
   },
   "file_extension": ".py",
   "mimetype": "text/x-python",
   "name": "python",
   "nbconvert_exporter": "python",
   "pygments_lexer": "ipython3",
   "version": "3.12.2"
  }
 },
 "nbformat": 4,
 "nbformat_minor": 5
}
