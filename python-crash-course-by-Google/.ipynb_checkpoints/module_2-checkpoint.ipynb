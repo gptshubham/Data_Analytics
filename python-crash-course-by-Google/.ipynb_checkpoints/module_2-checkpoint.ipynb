{
 "cells": [
  {
   "cell_type": "markdown",
   "id": "6b99c5c7-207e-4717-af38-c209c239113d",
   "metadata": {},
   "source": [
    "# L1 - Variables and Expressions"
   ]
  },
  {
   "cell_type": "markdown",
   "id": "fdf3ddfb-b90c-4417-b98b-f268ff97275a",
   "metadata": {
    "jp-MarkdownHeadingCollapsed": true
   },
   "source": [
    "## Data Types"
   ]
  },
  {
   "cell_type": "code",
   "execution_count": 1,
   "id": "b0ee03e0-575c-467a-8a46-626030ea3319",
   "metadata": {},
   "outputs": [
    {
     "name": "stdout",
     "output_type": "stream",
     "text": [
      "<class 'int'>\n"
     ]
    }
   ],
   "source": [
    "print(type(7))"
   ]
  },
  {
   "cell_type": "code",
   "execution_count": 2,
   "id": "d7ebd0ec-1c0b-4927-8898-02624ce985e8",
   "metadata": {},
   "outputs": [
    {
     "name": "stdout",
     "output_type": "stream",
     "text": [
      "<class 'str'>\n"
     ]
    }
   ],
   "source": [
    "print(type('python'))"
   ]
  },
  {
   "cell_type": "code",
   "execution_count": 3,
   "id": "d886bba9-9279-42d8-bec5-02e53528e1f8",
   "metadata": {},
   "outputs": [
    {
     "name": "stdout",
     "output_type": "stream",
     "text": [
      "<class 'float'>\n"
     ]
    }
   ],
   "source": [
    "print(type(7.77))"
   ]
  },
  {
   "cell_type": "code",
   "execution_count": 5,
   "id": "27933304-dc6f-47f9-9067-437390c7614d",
   "metadata": {},
   "outputs": [
    {
     "name": "stdout",
     "output_type": "stream",
     "text": [
      "78\n"
     ]
    }
   ],
   "source": [
    "print('7' + '8')"
   ]
  },
  {
   "cell_type": "markdown",
   "id": "c47b11db-8ba1-45a1-8159-6aab44d8e1a7",
   "metadata": {
    "jp-MarkdownHeadingCollapsed": true
   },
   "source": [
    "## Annotating Variable Types"
   ]
  },
  {
   "cell_type": "code",
   "execution_count": 7,
   "id": "81bfda82-0e35-41cc-a029-03939ffdefea",
   "metadata": {},
   "outputs": [],
   "source": [
    "name : str = 'shubham'"
   ]
  },
  {
   "cell_type": "code",
   "execution_count": 8,
   "id": "3628b3d4-bb06-4383-b803-ea2e526c889d",
   "metadata": {},
   "outputs": [
    {
     "name": "stdout",
     "output_type": "stream",
     "text": [
      "shubham\n"
     ]
    }
   ],
   "source": [
    "print(name)"
   ]
  },
  {
   "cell_type": "code",
   "execution_count": 9,
   "id": "f7080964-b08e-4204-914a-8ead2a8c9dd2",
   "metadata": {},
   "outputs": [
    {
     "name": "stdout",
     "output_type": "stream",
     "text": [
      "<class 'str'>\n"
     ]
    }
   ],
   "source": [
    "print(type(name))"
   ]
  },
  {
   "cell_type": "code",
   "execution_count": 17,
   "id": "f1ee7e5a-d79f-4ef3-bebd-2c39eae5876a",
   "metadata": {},
   "outputs": [],
   "source": [
    "age = 123 # type : int"
   ]
  },
  {
   "cell_type": "code",
   "execution_count": 18,
   "id": "29b43971-6ff4-4b1d-bade-2108f7d43336",
   "metadata": {},
   "outputs": [
    {
     "name": "stdout",
     "output_type": "stream",
     "text": [
      "123\n"
     ]
    }
   ],
   "source": [
    "print(age)"
   ]
  },
  {
   "cell_type": "code",
   "execution_count": 19,
   "id": "b8caf29f-9f3e-4b56-921d-840164fae746",
   "metadata": {},
   "outputs": [
    {
     "name": "stdout",
     "output_type": "stream",
     "text": [
      "<class 'int'>\n"
     ]
    }
   ],
   "source": [
    "print(type(age))"
   ]
  },
  {
   "cell_type": "code",
   "execution_count": 14,
   "id": "bc813487-82db-4020-bfb7-1cf747832ff5",
   "metadata": {},
   "outputs": [
    {
     "name": "stdout",
     "output_type": "stream",
     "text": [
      "[12, 17, 22, 23]\n"
     ]
    }
   ],
   "source": [
    "L1 : int = [12,17,22,23]\n",
    "print(L1)"
   ]
  },
  {
   "cell_type": "code",
   "execution_count": 15,
   "id": "4b91fcd8-d3a3-4039-a358-2630fa5be2ee",
   "metadata": {},
   "outputs": [
    {
     "name": "stdout",
     "output_type": "stream",
     "text": [
      "<class 'list'>\n"
     ]
    }
   ],
   "source": [
    "print(type(L1))"
   ]
  },
  {
   "cell_type": "code",
   "execution_count": 16,
   "id": "8660f150-161b-43ef-8179-6b8a9753b109",
   "metadata": {},
   "outputs": [
    {
     "name": "stdout",
     "output_type": "stream",
     "text": [
      "<class 'int'>\n"
     ]
    }
   ],
   "source": [
    "print(type(L1[0]))"
   ]
  },
  {
   "cell_type": "markdown",
   "id": "9f77f768-77b7-4506-8800-decbfcaee974",
   "metadata": {
    "jp-MarkdownHeadingCollapsed": true
   },
   "source": [
    "## type convertion"
   ]
  },
  {
   "cell_type": "code",
   "execution_count": 21,
   "id": "715ed01b-797c-45fd-a358-d32bc4c5a961",
   "metadata": {},
   "outputs": [
    {
     "name": "stdin",
     "output_type": "stream",
     "text": [
      "Enter your age :  123\n"
     ]
    },
    {
     "name": "stdout",
     "output_type": "stream",
     "text": [
      "123\n",
      "<class 'str'>\n"
     ]
    }
   ],
   "source": [
    "age = input('Enter your age : ')\n",
    "print(age)\n",
    "print(type(age))"
   ]
  },
  {
   "cell_type": "code",
   "execution_count": 22,
   "id": "87e16051-1ce9-43b5-a3e3-967ea8b7b303",
   "metadata": {},
   "outputs": [
    {
     "name": "stdin",
     "output_type": "stream",
     "text": [
      "Enter your age :  123\n"
     ]
    },
    {
     "name": "stdout",
     "output_type": "stream",
     "text": [
      "123\n",
      "<class 'int'>\n"
     ]
    }
   ],
   "source": [
    "age = int(input('Enter your age : '))\n",
    "print(age)\n",
    "print(type(age))"
   ]
  },
  {
   "cell_type": "markdown",
   "id": "65a60df7-60e1-4e6c-b260-36291f971396",
   "metadata": {},
   "source": [
    "# L2 - Functions"
   ]
  },
  {
   "cell_type": "markdown",
   "id": "7f785b69-90f3-4a57-9442-ac1723abfb4e",
   "metadata": {
    "jp-MarkdownHeadingCollapsed": true
   },
   "source": [
    "### Built-in Functions"
   ]
  },
  {
   "cell_type": "code",
   "execution_count": 32,
   "id": "2cdb731e-0112-4c88-a5c8-16ae7b149ac5",
   "metadata": {},
   "outputs": [],
   "source": [
    "L1 = [36, 24, 48, 12] # type : int"
   ]
  },
  {
   "cell_type": "code",
   "execution_count": 33,
   "id": "9557691a-c6d5-4d2c-8ecf-0df262b2703d",
   "metadata": {},
   "outputs": [
    {
     "name": "stdout",
     "output_type": "stream",
     "text": [
      "[36, 24, 48, 12]\n"
     ]
    }
   ],
   "source": [
    "print(L1)"
   ]
  },
  {
   "cell_type": "code",
   "execution_count": 34,
   "id": "7087036f-0844-4fcc-8d31-8169b2f04a42",
   "metadata": {},
   "outputs": [
    {
     "data": {
      "text/plain": [
       "list"
      ]
     },
     "execution_count": 34,
     "metadata": {},
     "output_type": "execute_result"
    }
   ],
   "source": [
    "type(L1)"
   ]
  },
  {
   "cell_type": "code",
   "execution_count": 35,
   "id": "70d112ab-09a4-48a9-b01a-dd3460760c7f",
   "metadata": {},
   "outputs": [
    {
     "name": "stdout",
     "output_type": "stream",
     "text": [
      "36\n",
      "<class 'str'>\n",
      "24\n",
      "<class 'int'>\n"
     ]
    }
   ],
   "source": [
    "L1[0] = str(L1[0]) \n",
    "print(L1[0])\n",
    "print(type(L1[0]))\n",
    "print(L1[1])\n",
    "print(type(L1[1]))"
   ]
  },
  {
   "cell_type": "code",
   "execution_count": 36,
   "id": "b3e892a1-8db9-4219-8ac4-a73d9678cf23",
   "metadata": {},
   "outputs": [
    {
     "name": "stdout",
     "output_type": "stream",
     "text": [
      "<class 'str'>\n",
      "<class 'int'>\n",
      "<class 'int'>\n",
      "<class 'int'>\n"
     ]
    }
   ],
   "source": [
    "for element in L1:\n",
    "    print(type(element))"
   ]
  },
  {
   "cell_type": "code",
   "execution_count": 38,
   "id": "b2b60df6-31ed-47a8-935e-53816afe3020",
   "metadata": {},
   "outputs": [
    {
     "name": "stdout",
     "output_type": "stream",
     "text": [
      "[12, 24, 36, 48]\n"
     ]
    }
   ],
   "source": [
    "# sorted()\n",
    "L1[0] = int(L1[0]) \n",
    "L1 = sorted(L1)\n",
    "print(L1)"
   ]
  },
  {
   "cell_type": "code",
   "execution_count": 39,
   "id": "cae0d347-0b05-44f0-81c9-7fe18aba4bd1",
   "metadata": {},
   "outputs": [
    {
     "name": "stdout",
     "output_type": "stream",
     "text": [
      "48\n"
     ]
    }
   ],
   "source": [
    "# max()\n",
    "print(max(L1))"
   ]
  },
  {
   "cell_type": "code",
   "execution_count": 40,
   "id": "b7ac8d36-5bb0-4629-9af9-36cb8b56eef4",
   "metadata": {},
   "outputs": [
    {
     "name": "stdout",
     "output_type": "stream",
     "text": [
      "12\n"
     ]
    }
   ],
   "source": [
    "# min()\n",
    "print(min(L1))"
   ]
  },
  {
   "cell_type": "markdown",
   "id": "fadc2182-5abf-4142-99c3-01273bebafc4",
   "metadata": {},
   "source": [
    "# L3 - Conditionals"
   ]
  },
  {
   "cell_type": "code",
   "execution_count": null,
   "id": "0842942d-8279-4458-b931-a88ee47c775f",
   "metadata": {},
   "outputs": [],
   "source": [
    "# --> too damn basic ==> skipped! "
   ]
  }
 ],
 "metadata": {
  "kernelspec": {
   "display_name": "Python 3 (ipykernel)",
   "language": "python",
   "name": "python3"
  },
  "language_info": {
   "codemirror_mode": {
    "name": "ipython",
    "version": 3
   },
   "file_extension": ".py",
   "mimetype": "text/x-python",
   "name": "python",
   "nbconvert_exporter": "python",
   "pygments_lexer": "ipython3",
   "version": "3.12.2"
  }
 },
 "nbformat": 4,
 "nbformat_minor": 5
}
