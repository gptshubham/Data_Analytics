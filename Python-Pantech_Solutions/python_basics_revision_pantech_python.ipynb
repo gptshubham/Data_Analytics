{
  "nbformat": 4,
  "nbformat_minor": 0,
  "metadata": {
    "colab": {
      "provenance": [],
      "collapsed_sections": [
        "zfUgkhOSCjld",
        "rm4UG1rlFFTP"
      ]
    },
    "kernelspec": {
      "name": "python3",
      "display_name": "Python 3"
    },
    "language_info": {
      "name": "python"
    }
  },
  "cells": [
    {
      "cell_type": "markdown",
      "source": [
        "# 1. Arithmetic Operation"
      ],
      "metadata": {
        "id": "hWGzvlBNBB_1"
      }
    },
    {
      "cell_type": "markdown",
      "source": [
        "## Simple Arithmetic"
      ],
      "metadata": {
        "id": "zfUgkhOSCjld"
      }
    },
    {
      "cell_type": "code",
      "source": [
        "a = 5\n",
        "b = 6\n",
        "c = a + b\n",
        "print(c)"
      ],
      "metadata": {
        "colab": {
          "base_uri": "https://localhost:8080/"
        },
        "id": "xF9KO1w7BGIM",
        "outputId": "822a871a-5544-48f0-ffa3-919608aef582"
      },
      "execution_count": null,
      "outputs": [
        {
          "output_type": "stream",
          "name": "stdout",
          "text": [
            "11\n"
          ]
        }
      ]
    },
    {
      "cell_type": "code",
      "source": [
        "d = a*b\n",
        "print(d)"
      ],
      "metadata": {
        "colab": {
          "base_uri": "https://localhost:8080/"
        },
        "id": "2_czvZQ1BV04",
        "outputId": "751b7bda-bab2-4829-d45e-b9478b4c4d50"
      },
      "execution_count": null,
      "outputs": [
        {
          "output_type": "stream",
          "name": "stdout",
          "text": [
            "30\n"
          ]
        }
      ]
    },
    {
      "cell_type": "markdown",
      "source": [
        "## Simple Arithmetic - Get input from user (+,-,*,%)"
      ],
      "metadata": {
        "id": "rm4UG1rlFFTP"
      }
    },
    {
      "cell_type": "code",
      "source": [
        "# string formatting - format()\n",
        "a = int(input(\"Enter the value of a : \"))\n",
        "b = int(input(\"Enter the value of b : \"))\n",
        "add = a + b\n",
        "sub = a - b\n",
        "mult = a * b\n",
        "div = a / b\n",
        "mod = a % b\n",
        "print(\"Sum : {}, Diff : {}, Product : {}, Dividend : {}, Mod : {}\".format(add,sub,mult,round(div,2),mod))"
      ],
      "metadata": {
        "colab": {
          "base_uri": "https://localhost:8080/"
        },
        "id": "1UngZoxwHdMB",
        "outputId": "fe7ff93e-7d9c-43fb-8e4f-92619bf10bf9"
      },
      "execution_count": null,
      "outputs": [
        {
          "output_type": "stream",
          "name": "stdout",
          "text": [
            "Enter the value of a : 20\n",
            "Enter the value of b : 3\n",
            "Sum : 23, Diff : 17, Product : 60, Dividend : 6.67, Mod : 2\n"
          ]
        }
      ]
    },
    {
      "cell_type": "code",
      "source": [
        "# string formatting - format() with indexing\n",
        "a = int(input(\"Enter the value of a : \"))\n",
        "b = int(input(\"Enter the value of b : \"))\n",
        "add = a + b\n",
        "sub = a - b\n",
        "mult = a * b\n",
        "div = round((a / b),2)\n",
        "mod = a % b\n",
        "print(\"Sum : {0}, Diff : {1}, Product : {2}, Dividend : {3}, Mod : {4}\".format(add,sub,mult,div,mod))"
      ],
      "metadata": {
        "colab": {
          "base_uri": "https://localhost:8080/"
        },
        "id": "798Uhw0mBca3",
        "outputId": "b454db9a-8ede-4624-f0b8-86d5bbc4b175"
      },
      "execution_count": null,
      "outputs": [
        {
          "output_type": "stream",
          "name": "stdout",
          "text": [
            "Enter the value of a : 20\n",
            "Enter the value of b : 3\n",
            "Sum : 23, Diff : 17, Product : 60, Dividend : 6.67, Mod : 2\n"
          ]
        }
      ]
    },
    {
      "cell_type": "code",
      "source": [
        "# String Formatting - f string\n",
        "a = int(input(\"Enter the value of a : \"))\n",
        "b = int(input(\"Enter the value of b : \"))\n",
        "add = a + b\n",
        "sub = a - b\n",
        "mult = a * b\n",
        "div = round((a / b),2)\n",
        "mod = a % b\n",
        "print(f'Sum : {add}, Diff : {sub}, Prod : {mult}, Div : {round(div,2)}, Mod : {mod}')"
      ],
      "metadata": {
        "colab": {
          "base_uri": "https://localhost:8080/"
        },
        "id": "1pkmkvtrGfTG",
        "outputId": "bd5d82b1-c9ab-41d6-a7e6-6d3ba0dc7cb5"
      },
      "execution_count": null,
      "outputs": [
        {
          "output_type": "stream",
          "name": "stdout",
          "text": [
            "Enter the value of a : 20\n",
            "Enter the value of b : 3\n",
            "Sum : 23, Diff : 17, Prod : 60, Div : 6.67, Mod : 2\n"
          ]
        }
      ]
    },
    {
      "cell_type": "code",
      "source": [
        "# string formatting\n",
        "a = int(input(\"Enter the value of a : \"))\n",
        "b = int(input(\"Enter the value of b : \"))\n",
        "add = a + b\n",
        "sub = a - b\n",
        "mult = a * b\n",
        "div = a / b\n",
        "mod = a % b\n",
        "print('Sum : {add}, Diff : {sub}, Prod : {mult}, Div : {round(div,2)}, Mod : {mod}'.format())"
      ],
      "metadata": {
        "colab": {
          "base_uri": "https://localhost:8080/",
          "height": 211
        },
        "id": "9TyAVdmiICvp",
        "outputId": "691d7276-9a64-40b9-8914-3affdfa12d94"
      },
      "execution_count": null,
      "outputs": [
        {
          "name": "stdout",
          "output_type": "stream",
          "text": [
            "Enter the value of a : 20\n",
            "Enter the value of b : 3\n"
          ]
        },
        {
          "output_type": "error",
          "ename": "KeyError",
          "evalue": "'add'",
          "traceback": [
            "\u001b[0;31m---------------------------------------------------------------------------\u001b[0m",
            "\u001b[0;31mKeyError\u001b[0m                                  Traceback (most recent call last)",
            "\u001b[0;32m<ipython-input-22-fd455a013484>\u001b[0m in \u001b[0;36m<cell line: 9>\u001b[0;34m()\u001b[0m\n\u001b[1;32m      7\u001b[0m \u001b[0mdiv\u001b[0m \u001b[0;34m=\u001b[0m \u001b[0ma\u001b[0m \u001b[0;34m/\u001b[0m \u001b[0mb\u001b[0m\u001b[0;34m\u001b[0m\u001b[0;34m\u001b[0m\u001b[0m\n\u001b[1;32m      8\u001b[0m \u001b[0mmod\u001b[0m \u001b[0;34m=\u001b[0m \u001b[0ma\u001b[0m \u001b[0;34m%\u001b[0m \u001b[0mb\u001b[0m\u001b[0;34m\u001b[0m\u001b[0;34m\u001b[0m\u001b[0m\n\u001b[0;32m----> 9\u001b[0;31m \u001b[0mprint\u001b[0m\u001b[0;34m(\u001b[0m\u001b[0;34m'Sum : {add}, Diff : {sub}, Prod : {mult}, Div : {round(div,2)}, Mod : {mod}'\u001b[0m\u001b[0;34m.\u001b[0m\u001b[0mformat\u001b[0m\u001b[0;34m(\u001b[0m\u001b[0;34m)\u001b[0m\u001b[0;34m)\u001b[0m\u001b[0;34m\u001b[0m\u001b[0;34m\u001b[0m\u001b[0m\n\u001b[0m",
            "\u001b[0;31mKeyError\u001b[0m: 'add'"
          ]
        }
      ]
    },
    {
      "cell_type": "code",
      "source": [
        "# String Formatting using % -- more like how it's done in C\n",
        "a = int(input(\"Enter the value of a : \"))\n",
        "b = int(input(\"Enter the value of b : \"))\n",
        "add = a + b\n",
        "sub = a - b\n",
        "mult = a * b\n",
        "div = a / b\n",
        "mod = a % b\n",
        "print(\"Sum : %d, Diff : %d, Prod : %d, Div : %0.2f, Mod : %d\"%(add,sub,mult,div,mod))\n",
        "# %0.2f --> 0 is for padding .2 means number of digits allowed after decimal f stands for float"
      ],
      "metadata": {
        "colab": {
          "base_uri": "https://localhost:8080/"
        },
        "id": "A4o6df8GHPTD",
        "outputId": "fb3ced2b-16c6-4a3b-fa80-1bdba9e346e6"
      },
      "execution_count": null,
      "outputs": [
        {
          "output_type": "stream",
          "name": "stdout",
          "text": [
            "Enter the value of a : 20\n",
            "Enter the value of b : 3\n",
            "Sum : 23, Diff : 17, Prod : 60, Div : 6.67, Mod : 2\n"
          ]
        }
      ]
    },
    {
      "cell_type": "code",
      "source": [
        "# Drawing Table using print() and String Formatting\n",
        "print('{0:<4} | {1:<4} | {2:<4} | {3:<4} | {4:<4}'.format('Sum','Diff','Prod','Div','Mod'))\n",
        "print('{0:<4} | {1:<4} | {2:<4} | {3:<4} | {4:<4}'.format(add,sub,mult,round(div,1),mod))\n",
        "# < --> Left Aligned\n",
        "# > --> Right Aligned"
      ],
      "metadata": {
        "colab": {
          "base_uri": "https://localhost:8080/"
        },
        "id": "LkB39WBNKO0i",
        "outputId": "275da0cc-c1c8-48b9-efd2-8b64ed79d5f0"
      },
      "execution_count": null,
      "outputs": [
        {
          "output_type": "stream",
          "name": "stdout",
          "text": [
            "Sum  | Diff | Prod | Div  | Mod \n",
            "23   | 17   | 60   | 6.7  | 2   \n"
          ]
        }
      ]
    },
    {
      "cell_type": "code",
      "source": [
        "print('{0:>4} | {1:>4} | {2:>4} | {3:>4} | {4:>4}'.format('Sum','Diff','Prod','Div','Mod'))\n",
        "print('{0:>4} | {1:>4} | {2:>4} | {3:>4} | {4:>4}'.format(add,sub,mult,round(div,1),mod))\n",
        "# This is more like how excel does"
      ],
      "metadata": {
        "colab": {
          "base_uri": "https://localhost:8080/"
        },
        "id": "P8ks9TyDOu7a",
        "outputId": "58e8319f-6490-419f-cf3b-53a05b9e41f8"
      },
      "execution_count": null,
      "outputs": [
        {
          "output_type": "stream",
          "name": "stdout",
          "text": [
            " Sum | Diff | Prod |  Div |  Mod\n",
            "  23 |   17 |   60 |  6.7 |    2\n"
          ]
        }
      ]
    },
    {
      "cell_type": "markdown",
      "source": [
        "## Simple Arithmetic - Get input from user (power)"
      ],
      "metadata": {
        "id": "plKCadXWQQUv"
      }
    },
    {
      "cell_type": "code",
      "source": [
        "a = 2\n",
        "b = 3\n",
        "power = a**b\n",
        "print(power)"
      ],
      "metadata": {
        "colab": {
          "base_uri": "https://localhost:8080/"
        },
        "id": "PlFqZM2LPqO7",
        "outputId": "b920c188-6e16-45a6-ecdb-61b9e431bda3"
      },
      "execution_count": null,
      "outputs": [
        {
          "output_type": "stream",
          "name": "stdout",
          "text": [
            "8\n"
          ]
        }
      ]
    },
    {
      "cell_type": "code",
      "source": [
        "a = int(input('Enter the value of a : '))\n",
        "b = int(input('Enter the value of b : '))\n",
        "power = a**b\n",
        "print(power)"
      ],
      "metadata": {
        "colab": {
          "base_uri": "https://localhost:8080/"
        },
        "id": "Sh-geMb_QmGJ",
        "outputId": "79b6fc4a-cd3a-4065-e8c6-707548b27e6d"
      },
      "execution_count": null,
      "outputs": [
        {
          "output_type": "stream",
          "name": "stdout",
          "text": [
            "Enter the value of a : 5\n",
            "Enter the value of b : 3\n",
            "125\n"
          ]
        }
      ]
    },
    {
      "cell_type": "code",
      "source": [],
      "metadata": {
        "id": "jPZCbXSGRM-e"
      },
      "execution_count": null,
      "outputs": []
    }
  ]
}